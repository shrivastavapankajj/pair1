{
 "cells": [
  {
   "cell_type": "markdown",
   "metadata": {},
   "source": [
    "# Design /Approach"
   ]
  },
  {
   "cell_type": "markdown",
   "metadata": {},
   "source": [
    "<img src=\"diag.jpg\">"
   ]
  },
  {
   "cell_type": "code",
   "execution_count": 1,
   "metadata": {},
   "outputs": [],
   "source": [
    "import pandas as pd \n",
    "import csv"
   ]
  },
  {
   "cell_type": "code",
   "execution_count": 2,
   "metadata": {},
   "outputs": [],
   "source": [
    "from sklearn.model_selection import train_test_split\n",
    "from sklearn.metrics import confusion_matrix\n",
    "from sklearn import metrics\n",
    "import matplotlib.pyplot as plt\n",
    "import numpy as np\n",
    "import pandas as pd\n",
    "%matplotlib inline"
   ]
  },
  {
   "cell_type": "code",
   "execution_count": 3,
   "metadata": {},
   "outputs": [],
   "source": [
    "df = pd.read_csv('data.csv')"
   ]
  },
  {
   "cell_type": "code",
   "execution_count": 4,
   "metadata": {},
   "outputs": [
    {
     "data": {
      "text/html": [
       "<div>\n",
       "<style scoped>\n",
       "    .dataframe tbody tr th:only-of-type {\n",
       "        vertical-align: middle;\n",
       "    }\n",
       "\n",
       "    .dataframe tbody tr th {\n",
       "        vertical-align: top;\n",
       "    }\n",
       "\n",
       "    .dataframe thead th {\n",
       "        text-align: right;\n",
       "    }\n",
       "</style>\n",
       "<table border=\"1\" class=\"dataframe\">\n",
       "  <thead>\n",
       "    <tr style=\"text-align: right;\">\n",
       "      <th></th>\n",
       "      <th>X1</th>\n",
       "      <th>X2</th>\n",
       "      <th>X3</th>\n",
       "      <th>M</th>\n",
       "      <th>TS00</th>\n",
       "      <th>TO00</th>\n",
       "      <th>TS01</th>\n",
       "      <th>TO01</th>\n",
       "      <th>TS02</th>\n",
       "      <th>TO02</th>\n",
       "      <th>...</th>\n",
       "      <th>TS10</th>\n",
       "      <th>TO10</th>\n",
       "      <th>TS11</th>\n",
       "      <th>TO11</th>\n",
       "      <th>TS12</th>\n",
       "      <th>TO12</th>\n",
       "      <th>TS13</th>\n",
       "      <th>TO13</th>\n",
       "      <th>TS14</th>\n",
       "      <th>TO14</th>\n",
       "    </tr>\n",
       "  </thead>\n",
       "  <tbody>\n",
       "    <tr>\n",
       "      <th>0</th>\n",
       "      <td>-1.25</td>\n",
       "      <td>-0.88</td>\n",
       "      <td>2</td>\n",
       "      <td>14</td>\n",
       "      <td>14:00</td>\n",
       "      <td>22:27</td>\n",
       "      <td>18:00</td>\n",
       "      <td>14:37</td>\n",
       "      <td>13:00</td>\n",
       "      <td>09:39</td>\n",
       "      <td>...</td>\n",
       "      <td>10:00</td>\n",
       "      <td>21:29</td>\n",
       "      <td>10:00</td>\n",
       "      <td>08:47</td>\n",
       "      <td>15:00</td>\n",
       "      <td>10:06</td>\n",
       "      <td>10:00</td>\n",
       "      <td>09:14</td>\n",
       "      <td>NaN</td>\n",
       "      <td>NaN</td>\n",
       "    </tr>\n",
       "    <tr>\n",
       "      <th>1</th>\n",
       "      <td>-0.14</td>\n",
       "      <td>-3.21</td>\n",
       "      <td>0</td>\n",
       "      <td>1</td>\n",
       "      <td>17:00</td>\n",
       "      <td>17:11</td>\n",
       "      <td>NaN</td>\n",
       "      <td>NaN</td>\n",
       "      <td>NaN</td>\n",
       "      <td>NaN</td>\n",
       "      <td>...</td>\n",
       "      <td>NaN</td>\n",
       "      <td>NaN</td>\n",
       "      <td>NaN</td>\n",
       "      <td>NaN</td>\n",
       "      <td>NaN</td>\n",
       "      <td>NaN</td>\n",
       "      <td>NaN</td>\n",
       "      <td>NaN</td>\n",
       "      <td>NaN</td>\n",
       "      <td>NaN</td>\n",
       "    </tr>\n",
       "    <tr>\n",
       "      <th>2</th>\n",
       "      <td>1.23</td>\n",
       "      <td>0.08</td>\n",
       "      <td>3</td>\n",
       "      <td>1</td>\n",
       "      <td>19:00</td>\n",
       "      <td>09:22</td>\n",
       "      <td>NaN</td>\n",
       "      <td>NaN</td>\n",
       "      <td>NaN</td>\n",
       "      <td>NaN</td>\n",
       "      <td>...</td>\n",
       "      <td>NaN</td>\n",
       "      <td>NaN</td>\n",
       "      <td>NaN</td>\n",
       "      <td>NaN</td>\n",
       "      <td>NaN</td>\n",
       "      <td>NaN</td>\n",
       "      <td>NaN</td>\n",
       "      <td>NaN</td>\n",
       "      <td>NaN</td>\n",
       "      <td>NaN</td>\n",
       "    </tr>\n",
       "    <tr>\n",
       "      <th>3</th>\n",
       "      <td>-0.38</td>\n",
       "      <td>-1.30</td>\n",
       "      <td>3</td>\n",
       "      <td>2</td>\n",
       "      <td>12:00</td>\n",
       "      <td>12:38</td>\n",
       "      <td>08:00</td>\n",
       "      <td>09:04</td>\n",
       "      <td>NaN</td>\n",
       "      <td>NaN</td>\n",
       "      <td>...</td>\n",
       "      <td>NaN</td>\n",
       "      <td>NaN</td>\n",
       "      <td>NaN</td>\n",
       "      <td>NaN</td>\n",
       "      <td>NaN</td>\n",
       "      <td>NaN</td>\n",
       "      <td>NaN</td>\n",
       "      <td>NaN</td>\n",
       "      <td>NaN</td>\n",
       "      <td>NaN</td>\n",
       "    </tr>\n",
       "    <tr>\n",
       "      <th>4</th>\n",
       "      <td>-1.50</td>\n",
       "      <td>0.22</td>\n",
       "      <td>2</td>\n",
       "      <td>6</td>\n",
       "      <td>14:00</td>\n",
       "      <td>21:59</td>\n",
       "      <td>11:00</td>\n",
       "      <td>17:01</td>\n",
       "      <td>15:00</td>\n",
       "      <td>23:47</td>\n",
       "      <td>...</td>\n",
       "      <td>NaN</td>\n",
       "      <td>NaN</td>\n",
       "      <td>NaN</td>\n",
       "      <td>NaN</td>\n",
       "      <td>NaN</td>\n",
       "      <td>NaN</td>\n",
       "      <td>NaN</td>\n",
       "      <td>NaN</td>\n",
       "      <td>NaN</td>\n",
       "      <td>NaN</td>\n",
       "    </tr>\n",
       "  </tbody>\n",
       "</table>\n",
       "<p>5 rows × 34 columns</p>\n",
       "</div>"
      ],
      "text/plain": [
       "     X1    X2  X3   M   TS00   TO00   TS01   TO01   TS02   TO02 ...    TS10  \\\n",
       "0 -1.25 -0.88   2  14  14:00  22:27  18:00  14:37  13:00  09:39 ...   10:00   \n",
       "1 -0.14 -3.21   0   1  17:00  17:11    NaN    NaN    NaN    NaN ...     NaN   \n",
       "2  1.23  0.08   3   1  19:00  09:22    NaN    NaN    NaN    NaN ...     NaN   \n",
       "3 -0.38 -1.30   3   2  12:00  12:38  08:00  09:04    NaN    NaN ...     NaN   \n",
       "4 -1.50  0.22   2   6  14:00  21:59  11:00  17:01  15:00  23:47 ...     NaN   \n",
       "\n",
       "    TO10   TS11   TO11   TS12   TO12   TS13   TO13 TS14 TO14  \n",
       "0  21:29  10:00  08:47  15:00  10:06  10:00  09:14  NaN  NaN  \n",
       "1    NaN    NaN    NaN    NaN    NaN    NaN    NaN  NaN  NaN  \n",
       "2    NaN    NaN    NaN    NaN    NaN    NaN    NaN  NaN  NaN  \n",
       "3    NaN    NaN    NaN    NaN    NaN    NaN    NaN  NaN  NaN  \n",
       "4    NaN    NaN    NaN    NaN    NaN    NaN    NaN  NaN  NaN  \n",
       "\n",
       "[5 rows x 34 columns]"
      ]
     },
     "execution_count": 4,
     "metadata": {},
     "output_type": "execute_result"
    }
   ],
   "source": [
    "df.head()"
   ]
  },
  {
   "cell_type": "code",
   "execution_count": 5,
   "metadata": {},
   "outputs": [],
   "source": [
    "import copy"
   ]
  },
  {
   "cell_type": "markdown",
   "metadata": {},
   "source": [
    "For each row , there are multiple send and open time . Split the rows into mutiple rows so that each row has one send time and an open time .\n"
   ]
  },
  {
   "cell_type": "code",
   "execution_count": 6,
   "metadata": {},
   "outputs": [
    {
     "name": "stdout",
     "output_type": "stream",
     "text": [
      "Processed 100001 lines.\n"
     ]
    }
   ],
   "source": [
    "import csv\n",
    "im_list = []\n",
    "main_list = []\n",
    "main_list1 = []\n",
    "\n",
    "with open('data.csv') as csv_file:\n",
    "    csv_reader = csv.reader(csv_file, delimiter=',')\n",
    "    line_count = 0\n",
    "    for row in csv_reader:\n",
    "        if line_count == 0:\n",
    "            line_count += 1\n",
    "        else:\n",
    "            #print(row)\n",
    "            line_count += 1\n",
    "\n",
    "\n",
    "            for i,j in enumerate(row):\n",
    "                try:\n",
    "                    if(((i+4) % 2 ==0) and row[i+4] != ''):\n",
    "                        im_list.append(row[0])\n",
    "                        im_list.append(row[1])\n",
    "                        im_list.append(row[2])\n",
    "                        im_list.append(row[3])\n",
    "                        im_list.append(row[i+4])\n",
    "                        im_list.append(row[i+5])\n",
    "                        main_list.append(im_list)\n",
    "                        im_list = []\n",
    "                        \n",
    "                    \n",
    "                except IndexError:\n",
    "                    pass\n",
    "            \n",
    "            \n",
    "            #im_list.clear()\n",
    "    print(f'Processed {line_count} lines.')"
   ]
  },
  {
   "cell_type": "code",
   "execution_count": 7,
   "metadata": {},
   "outputs": [],
   "source": [
    "df = pd.DataFrame(main_list)"
   ]
  },
  {
   "cell_type": "code",
   "execution_count": 8,
   "metadata": {},
   "outputs": [
    {
     "data": {
      "text/html": [
       "<div>\n",
       "<style scoped>\n",
       "    .dataframe tbody tr th:only-of-type {\n",
       "        vertical-align: middle;\n",
       "    }\n",
       "\n",
       "    .dataframe tbody tr th {\n",
       "        vertical-align: top;\n",
       "    }\n",
       "\n",
       "    .dataframe thead th {\n",
       "        text-align: right;\n",
       "    }\n",
       "</style>\n",
       "<table border=\"1\" class=\"dataframe\">\n",
       "  <thead>\n",
       "    <tr style=\"text-align: right;\">\n",
       "      <th></th>\n",
       "      <th>0</th>\n",
       "      <th>1</th>\n",
       "      <th>2</th>\n",
       "      <th>3</th>\n",
       "      <th>4</th>\n",
       "      <th>5</th>\n",
       "    </tr>\n",
       "  </thead>\n",
       "  <tbody>\n",
       "    <tr>\n",
       "      <th>0</th>\n",
       "      <td>-1.25</td>\n",
       "      <td>-0.88</td>\n",
       "      <td>2</td>\n",
       "      <td>14</td>\n",
       "      <td>14:00</td>\n",
       "      <td>22:27</td>\n",
       "    </tr>\n",
       "    <tr>\n",
       "      <th>1</th>\n",
       "      <td>-1.25</td>\n",
       "      <td>-0.88</td>\n",
       "      <td>2</td>\n",
       "      <td>14</td>\n",
       "      <td>18:00</td>\n",
       "      <td>14:37</td>\n",
       "    </tr>\n",
       "    <tr>\n",
       "      <th>2</th>\n",
       "      <td>-1.25</td>\n",
       "      <td>-0.88</td>\n",
       "      <td>2</td>\n",
       "      <td>14</td>\n",
       "      <td>13:00</td>\n",
       "      <td>09:39</td>\n",
       "    </tr>\n",
       "    <tr>\n",
       "      <th>3</th>\n",
       "      <td>-1.25</td>\n",
       "      <td>-0.88</td>\n",
       "      <td>2</td>\n",
       "      <td>14</td>\n",
       "      <td>17:00</td>\n",
       "      <td>11:58</td>\n",
       "    </tr>\n",
       "    <tr>\n",
       "      <th>4</th>\n",
       "      <td>-1.25</td>\n",
       "      <td>-0.88</td>\n",
       "      <td>2</td>\n",
       "      <td>14</td>\n",
       "      <td>11:00</td>\n",
       "      <td>07:47</td>\n",
       "    </tr>\n",
       "  </tbody>\n",
       "</table>\n",
       "</div>"
      ],
      "text/plain": [
       "       0      1  2   3      4      5\n",
       "0  -1.25  -0.88  2  14  14:00  22:27\n",
       "1  -1.25  -0.88  2  14  18:00  14:37\n",
       "2  -1.25  -0.88  2  14  13:00  09:39\n",
       "3  -1.25  -0.88  2  14  17:00  11:58\n",
       "4  -1.25  -0.88  2  14  11:00  07:47"
      ]
     },
     "execution_count": 8,
     "metadata": {},
     "output_type": "execute_result"
    }
   ],
   "source": [
    "df.head()"
   ]
  },
  {
   "cell_type": "code",
   "execution_count": 9,
   "metadata": {},
   "outputs": [],
   "source": [
    "df.to_csv('formatteddata.csv')\n"
   ]
  },
  {
   "cell_type": "code",
   "execution_count": 10,
   "metadata": {},
   "outputs": [],
   "source": [
    "cols = ['x1','x2','x3','m','sendtime','opentime']\n",
    "df.columns = cols"
   ]
  },
  {
   "cell_type": "code",
   "execution_count": 11,
   "metadata": {},
   "outputs": [
    {
     "data": {
      "text/html": [
       "<div>\n",
       "<style scoped>\n",
       "    .dataframe tbody tr th:only-of-type {\n",
       "        vertical-align: middle;\n",
       "    }\n",
       "\n",
       "    .dataframe tbody tr th {\n",
       "        vertical-align: top;\n",
       "    }\n",
       "\n",
       "    .dataframe thead th {\n",
       "        text-align: right;\n",
       "    }\n",
       "</style>\n",
       "<table border=\"1\" class=\"dataframe\">\n",
       "  <thead>\n",
       "    <tr style=\"text-align: right;\">\n",
       "      <th></th>\n",
       "      <th>x1</th>\n",
       "      <th>x2</th>\n",
       "      <th>x3</th>\n",
       "      <th>m</th>\n",
       "      <th>sendtime</th>\n",
       "      <th>opentime</th>\n",
       "    </tr>\n",
       "  </thead>\n",
       "  <tbody>\n",
       "    <tr>\n",
       "      <th>0</th>\n",
       "      <td>-1.25</td>\n",
       "      <td>-0.88</td>\n",
       "      <td>2</td>\n",
       "      <td>14</td>\n",
       "      <td>14:00</td>\n",
       "      <td>22:27</td>\n",
       "    </tr>\n",
       "    <tr>\n",
       "      <th>1</th>\n",
       "      <td>-1.25</td>\n",
       "      <td>-0.88</td>\n",
       "      <td>2</td>\n",
       "      <td>14</td>\n",
       "      <td>18:00</td>\n",
       "      <td>14:37</td>\n",
       "    </tr>\n",
       "    <tr>\n",
       "      <th>2</th>\n",
       "      <td>-1.25</td>\n",
       "      <td>-0.88</td>\n",
       "      <td>2</td>\n",
       "      <td>14</td>\n",
       "      <td>13:00</td>\n",
       "      <td>09:39</td>\n",
       "    </tr>\n",
       "    <tr>\n",
       "      <th>3</th>\n",
       "      <td>-1.25</td>\n",
       "      <td>-0.88</td>\n",
       "      <td>2</td>\n",
       "      <td>14</td>\n",
       "      <td>17:00</td>\n",
       "      <td>11:58</td>\n",
       "    </tr>\n",
       "    <tr>\n",
       "      <th>4</th>\n",
       "      <td>-1.25</td>\n",
       "      <td>-0.88</td>\n",
       "      <td>2</td>\n",
       "      <td>14</td>\n",
       "      <td>11:00</td>\n",
       "      <td>07:47</td>\n",
       "    </tr>\n",
       "  </tbody>\n",
       "</table>\n",
       "</div>"
      ],
      "text/plain": [
       "      x1     x2 x3   m sendtime opentime\n",
       "0  -1.25  -0.88  2  14    14:00    22:27\n",
       "1  -1.25  -0.88  2  14    18:00    14:37\n",
       "2  -1.25  -0.88  2  14    13:00    09:39\n",
       "3  -1.25  -0.88  2  14    17:00    11:58\n",
       "4  -1.25  -0.88  2  14    11:00    07:47"
      ]
     },
     "execution_count": 11,
     "metadata": {},
     "output_type": "execute_result"
    }
   ],
   "source": [
    "df.head()"
   ]
  },
  {
   "cell_type": "markdown",
   "metadata": {},
   "source": [
    "Create a new columns in dataframe 'timediff' . This is time difference between mail send time and mail open time in secoonds."
   ]
  },
  {
   "cell_type": "code",
   "execution_count": 12,
   "metadata": {},
   "outputs": [],
   "source": [
    "from datetime import datetime\n",
    "badcnt = 0\n",
    "def time_diff(send,open):\n",
    "    badcnt = 0\n",
    "    FMT = '%H:%M'\n",
    "    try:\n",
    "        tdelta = datetime.strptime(open, FMT) - datetime.strptime(send, FMT)\n",
    "        return tdelta.seconds\n",
    "    except:\n",
    "        tdelta = 0\n",
    "        badcnt = badcnt + 1\n",
    "        print(badcnt)\n",
    "        return 0\n",
    "    "
   ]
  },
  {
   "cell_type": "code",
   "execution_count": 13,
   "metadata": {},
   "outputs": [
    {
     "name": "stdout",
     "output_type": "stream",
     "text": [
      "1\n",
      "1\n"
     ]
    }
   ],
   "source": [
    "df['timediff'] = df.apply(lambda x: time_diff(x['sendtime'],x['opentime']),axis=1)"
   ]
  },
  {
   "cell_type": "code",
   "execution_count": 14,
   "metadata": {},
   "outputs": [
    {
     "data": {
      "text/html": [
       "<div>\n",
       "<style scoped>\n",
       "    .dataframe tbody tr th:only-of-type {\n",
       "        vertical-align: middle;\n",
       "    }\n",
       "\n",
       "    .dataframe tbody tr th {\n",
       "        vertical-align: top;\n",
       "    }\n",
       "\n",
       "    .dataframe thead th {\n",
       "        text-align: right;\n",
       "    }\n",
       "</style>\n",
       "<table border=\"1\" class=\"dataframe\">\n",
       "  <thead>\n",
       "    <tr style=\"text-align: right;\">\n",
       "      <th></th>\n",
       "      <th>x1</th>\n",
       "      <th>x2</th>\n",
       "      <th>x3</th>\n",
       "      <th>m</th>\n",
       "      <th>sendtime</th>\n",
       "      <th>opentime</th>\n",
       "      <th>timediff</th>\n",
       "    </tr>\n",
       "  </thead>\n",
       "  <tbody>\n",
       "    <tr>\n",
       "      <th>count</th>\n",
       "      <td>798960</td>\n",
       "      <td>798960</td>\n",
       "      <td>798960</td>\n",
       "      <td>798960</td>\n",
       "      <td>798960</td>\n",
       "      <td>798960</td>\n",
       "      <td>798960</td>\n",
       "    </tr>\n",
       "    <tr>\n",
       "      <th>size</th>\n",
       "      <td>798960</td>\n",
       "      <td>798960</td>\n",
       "      <td>798960</td>\n",
       "      <td>798960</td>\n",
       "      <td>798960</td>\n",
       "      <td>798960</td>\n",
       "      <td>798960</td>\n",
       "    </tr>\n",
       "    <tr>\n",
       "      <th>nunique</th>\n",
       "      <td>717</td>\n",
       "      <td>978</td>\n",
       "      <td>4</td>\n",
       "      <td>15</td>\n",
       "      <td>14</td>\n",
       "      <td>1442</td>\n",
       "      <td>1440</td>\n",
       "    </tr>\n",
       "  </tbody>\n",
       "</table>\n",
       "</div>"
      ],
      "text/plain": [
       "             x1      x2      x3       m  sendtime  opentime  timediff\n",
       "count    798960  798960  798960  798960    798960    798960    798960\n",
       "size     798960  798960  798960  798960    798960    798960    798960\n",
       "nunique     717     978       4      15        14      1442      1440"
      ]
     },
     "execution_count": 14,
     "metadata": {},
     "output_type": "execute_result"
    }
   ],
   "source": [
    "df.agg(['count', 'size', 'nunique'])"
   ]
  },
  {
   "cell_type": "code",
   "execution_count": 15,
   "metadata": {},
   "outputs": [
    {
     "data": {
      "image/png": "[encoded data removed]",
      "text/plain": [
       "<Figure size 432x288 with 1 Axes>"
      ]
     },
     "metadata": {
      "needs_background": "light"
     },
     "output_type": "display_data"
    }
   ],
   "source": [
    "# the timediff has sevral values, plot the distributuion of timediff. Its clear from the distribution that , almost half of the records has\n",
    "#timediff < 20000 and other half more than 200000\n",
    "\n",
    "import matplotlib.pyplot as plt\n",
    "import numpy as np\n",
    "import pandas as pd\n",
    "%matplotlib inline\n",
    "#x = np.random.random_integers(1, 100, 5)\n",
    "plt.hist(df['timediff'], bins=20)\n",
    "plt.ylabel('No of times')\n",
    "plt.show()"
   ]
  },
  {
   "cell_type": "code",
   "execution_count": 16,
   "metadata": {},
   "outputs": [
    {
     "data": {
      "image/png": "[encoded data removed]",
      "text/plain": [
       "<Figure size 432x288 with 1 Axes>"
      ]
     },
     "metadata": {
      "needs_background": "light"
     },
     "output_type": "display_data"
    }
   ],
   "source": [
    "out = pd.cut(df['timediff'], bins=[0,20000,80000], include_lowest=True)\n",
    "ax = out.value_counts(sort=False).plot.bar(rot=0, color=\"b\", figsize=(6,4))\n",
    "plt.show()"
   ]
  },
  {
   "cell_type": "code",
   "execution_count": 17,
   "metadata": {},
   "outputs": [],
   "source": [
    "#Build regression Model on records whose timediff < 20000 (5.hrs) "
   ]
  },
  {
   "cell_type": "markdown",
   "metadata": {},
   "source": [
    "Split the dataframe into two parts , One part with timediff less than 5.5 hrs and other with timediff more than 5.5 hrs.\n",
    "Build a regression model separately on these two dataframe which will predict timediff . \n",
    "\n"
   ]
  },
  {
   "cell_type": "code",
   "execution_count": 18,
   "metadata": {},
   "outputs": [],
   "source": [
    "df_test = df[df['timediff'] < 20000]"
   ]
  },
  {
   "cell_type": "code",
   "execution_count": 19,
   "metadata": {},
   "outputs": [],
   "source": [
    "df_test_gt_20k = df[df['timediff'] >= 20000]"
   ]
  },
  {
   "cell_type": "code",
   "execution_count": 20,
   "metadata": {},
   "outputs": [],
   "source": [
    "df_test = pd.get_dummies(df_test, columns=['x3','sendtime'])"
   ]
  },
  {
   "cell_type": "code",
   "execution_count": 21,
   "metadata": {},
   "outputs": [],
   "source": [
    "df_test_gt_20k = pd.get_dummies(df_test_gt_20k, columns=['x3','sendtime'])"
   ]
  },
  {
   "cell_type": "code",
   "execution_count": 22,
   "metadata": {},
   "outputs": [
    {
     "data": {
      "text/plain": [
       "Index(['x1', 'x2', 'm', 'opentime', 'timediff', 'x3_0', 'x3_1', 'x3_2', 'x3_3',\n",
       "       'sendtime_07:00', 'sendtime_08:00', 'sendtime_09:00', 'sendtime_10:00',\n",
       "       'sendtime_11:00', 'sendtime_12:00', 'sendtime_13:00', 'sendtime_14:00',\n",
       "       'sendtime_15:00', 'sendtime_16:00', 'sendtime_17:00', 'sendtime_18:00',\n",
       "       'sendtime_19:00', 'sendtime_20:00'],\n",
       "      dtype='object')"
      ]
     },
     "execution_count": 22,
     "metadata": {},
     "output_type": "execute_result"
    }
   ],
   "source": [
    "df_test.columns"
   ]
  },
  {
   "cell_type": "code",
   "execution_count": 23,
   "metadata": {},
   "outputs": [
    {
     "data": {
      "text/html": [
       "<div>\n",
       "<style scoped>\n",
       "    .dataframe tbody tr th:only-of-type {\n",
       "        vertical-align: middle;\n",
       "    }\n",
       "\n",
       "    .dataframe tbody tr th {\n",
       "        vertical-align: top;\n",
       "    }\n",
       "\n",
       "    .dataframe thead th {\n",
       "        text-align: right;\n",
       "    }\n",
       "</style>\n",
       "<table border=\"1\" class=\"dataframe\">\n",
       "  <thead>\n",
       "    <tr style=\"text-align: right;\">\n",
       "      <th></th>\n",
       "      <th>x1</th>\n",
       "      <th>x2</th>\n",
       "      <th>m</th>\n",
       "      <th>opentime</th>\n",
       "      <th>timediff</th>\n",
       "      <th>x3_0</th>\n",
       "      <th>x3_1</th>\n",
       "      <th>x3_2</th>\n",
       "      <th>x3_3</th>\n",
       "      <th>sendtime_07:00</th>\n",
       "      <th>...</th>\n",
       "      <th>sendtime_11:00</th>\n",
       "      <th>sendtime_12:00</th>\n",
       "      <th>sendtime_13:00</th>\n",
       "      <th>sendtime_14:00</th>\n",
       "      <th>sendtime_15:00</th>\n",
       "      <th>sendtime_16:00</th>\n",
       "      <th>sendtime_17:00</th>\n",
       "      <th>sendtime_18:00</th>\n",
       "      <th>sendtime_19:00</th>\n",
       "      <th>sendtime_20:00</th>\n",
       "    </tr>\n",
       "  </thead>\n",
       "  <tbody>\n",
       "    <tr>\n",
       "      <th>5</th>\n",
       "      <td>-1.25</td>\n",
       "      <td>-0.88</td>\n",
       "      <td>14</td>\n",
       "      <td>21:27</td>\n",
       "      <td>12420</td>\n",
       "      <td>0</td>\n",
       "      <td>0</td>\n",
       "      <td>1</td>\n",
       "      <td>0</td>\n",
       "      <td>0</td>\n",
       "      <td>...</td>\n",
       "      <td>0</td>\n",
       "      <td>0</td>\n",
       "      <td>0</td>\n",
       "      <td>0</td>\n",
       "      <td>0</td>\n",
       "      <td>0</td>\n",
       "      <td>0</td>\n",
       "      <td>1</td>\n",
       "      <td>0</td>\n",
       "      <td>0</td>\n",
       "    </tr>\n",
       "    <tr>\n",
       "      <th>7</th>\n",
       "      <td>-1.25</td>\n",
       "      <td>-0.88</td>\n",
       "      <td>14</td>\n",
       "      <td>20:13</td>\n",
       "      <td>4380</td>\n",
       "      <td>0</td>\n",
       "      <td>0</td>\n",
       "      <td>1</td>\n",
       "      <td>0</td>\n",
       "      <td>0</td>\n",
       "      <td>...</td>\n",
       "      <td>0</td>\n",
       "      <td>0</td>\n",
       "      <td>0</td>\n",
       "      <td>0</td>\n",
       "      <td>0</td>\n",
       "      <td>0</td>\n",
       "      <td>0</td>\n",
       "      <td>0</td>\n",
       "      <td>1</td>\n",
       "      <td>0</td>\n",
       "    </tr>\n",
       "    <tr>\n",
       "      <th>14</th>\n",
       "      <td>-0.14</td>\n",
       "      <td>-3.21</td>\n",
       "      <td>1</td>\n",
       "      <td>17:11</td>\n",
       "      <td>660</td>\n",
       "      <td>1</td>\n",
       "      <td>0</td>\n",
       "      <td>0</td>\n",
       "      <td>0</td>\n",
       "      <td>0</td>\n",
       "      <td>...</td>\n",
       "      <td>0</td>\n",
       "      <td>0</td>\n",
       "      <td>0</td>\n",
       "      <td>0</td>\n",
       "      <td>0</td>\n",
       "      <td>0</td>\n",
       "      <td>1</td>\n",
       "      <td>0</td>\n",
       "      <td>0</td>\n",
       "      <td>0</td>\n",
       "    </tr>\n",
       "    <tr>\n",
       "      <th>16</th>\n",
       "      <td>-0.38</td>\n",
       "      <td>-1.3</td>\n",
       "      <td>2</td>\n",
       "      <td>12:38</td>\n",
       "      <td>2280</td>\n",
       "      <td>0</td>\n",
       "      <td>0</td>\n",
       "      <td>0</td>\n",
       "      <td>1</td>\n",
       "      <td>0</td>\n",
       "      <td>...</td>\n",
       "      <td>0</td>\n",
       "      <td>1</td>\n",
       "      <td>0</td>\n",
       "      <td>0</td>\n",
       "      <td>0</td>\n",
       "      <td>0</td>\n",
       "      <td>0</td>\n",
       "      <td>0</td>\n",
       "      <td>0</td>\n",
       "      <td>0</td>\n",
       "    </tr>\n",
       "    <tr>\n",
       "      <th>17</th>\n",
       "      <td>-0.38</td>\n",
       "      <td>-1.3</td>\n",
       "      <td>2</td>\n",
       "      <td>09:04</td>\n",
       "      <td>3840</td>\n",
       "      <td>0</td>\n",
       "      <td>0</td>\n",
       "      <td>0</td>\n",
       "      <td>1</td>\n",
       "      <td>0</td>\n",
       "      <td>...</td>\n",
       "      <td>0</td>\n",
       "      <td>0</td>\n",
       "      <td>0</td>\n",
       "      <td>0</td>\n",
       "      <td>0</td>\n",
       "      <td>0</td>\n",
       "      <td>0</td>\n",
       "      <td>0</td>\n",
       "      <td>0</td>\n",
       "      <td>0</td>\n",
       "    </tr>\n",
       "  </tbody>\n",
       "</table>\n",
       "<p>5 rows × 23 columns</p>\n",
       "</div>"
      ],
      "text/plain": [
       "       x1     x2   m opentime  timediff  x3_0  x3_1  x3_2  x3_3  \\\n",
       "5   -1.25  -0.88  14    21:27     12420     0     0     1     0   \n",
       "7   -1.25  -0.88  14    20:13      4380     0     0     1     0   \n",
       "14  -0.14  -3.21   1    17:11       660     1     0     0     0   \n",
       "16  -0.38   -1.3   2    12:38      2280     0     0     0     1   \n",
       "17  -0.38   -1.3   2    09:04      3840     0     0     0     1   \n",
       "\n",
       "    sendtime_07:00       ...        sendtime_11:00  sendtime_12:00  \\\n",
       "5                0       ...                     0               0   \n",
       "7                0       ...                     0               0   \n",
       "14               0       ...                     0               0   \n",
       "16               0       ...                     0               1   \n",
       "17               0       ...                     0               0   \n",
       "\n",
       "    sendtime_13:00  sendtime_14:00  sendtime_15:00  sendtime_16:00  \\\n",
       "5                0               0               0               0   \n",
       "7                0               0               0               0   \n",
       "14               0               0               0               0   \n",
       "16               0               0               0               0   \n",
       "17               0               0               0               0   \n",
       "\n",
       "    sendtime_17:00  sendtime_18:00  sendtime_19:00  sendtime_20:00  \n",
       "5                0               1               0               0  \n",
       "7                0               0               1               0  \n",
       "14               1               0               0               0  \n",
       "16               0               0               0               0  \n",
       "17               0               0               0               0  \n",
       "\n",
       "[5 rows x 23 columns]"
      ]
     },
     "execution_count": 23,
     "metadata": {},
     "output_type": "execute_result"
    }
   ],
   "source": [
    "df_test.head()"
   ]
  },
  {
   "cell_type": "code",
   "execution_count": 24,
   "metadata": {},
   "outputs": [],
   "source": [
    "df_x = df_test.drop(['opentime','timediff'],axis=1)"
   ]
  },
  {
   "cell_type": "code",
   "execution_count": 25,
   "metadata": {},
   "outputs": [],
   "source": [
    "df_x_gt_20k = df_test_gt_20k.drop(['opentime','timediff'],axis=1)"
   ]
  },
  {
   "cell_type": "code",
   "execution_count": 26,
   "metadata": {},
   "outputs": [
    {
     "data": {
      "text/plain": [
       "Index(['x1', 'x2', 'm', 'x3_0', 'x3_1', 'x3_2', 'x3_3', 'sendtime_07:00',\n",
       "       'sendtime_08:00', 'sendtime_09:00', 'sendtime_10:00', 'sendtime_11:00',\n",
       "       'sendtime_12:00', 'sendtime_13:00', 'sendtime_14:00', 'sendtime_15:00',\n",
       "       'sendtime_16:00', 'sendtime_17:00', 'sendtime_18:00', 'sendtime_19:00',\n",
       "       'sendtime_20:00'],\n",
       "      dtype='object')"
      ]
     },
     "execution_count": 26,
     "metadata": {},
     "output_type": "execute_result"
    }
   ],
   "source": [
    "df_x_gt_20k.columns"
   ]
  },
  {
   "cell_type": "code",
   "execution_count": 27,
   "metadata": {},
   "outputs": [
    {
     "data": {
      "text/html": [
       "<div>\n",
       "<style scoped>\n",
       "    .dataframe tbody tr th:only-of-type {\n",
       "        vertical-align: middle;\n",
       "    }\n",
       "\n",
       "    .dataframe tbody tr th {\n",
       "        vertical-align: top;\n",
       "    }\n",
       "\n",
       "    .dataframe thead th {\n",
       "        text-align: right;\n",
       "    }\n",
       "</style>\n",
       "<table border=\"1\" class=\"dataframe\">\n",
       "  <thead>\n",
       "    <tr style=\"text-align: right;\">\n",
       "      <th></th>\n",
       "      <th>x1</th>\n",
       "      <th>x2</th>\n",
       "      <th>m</th>\n",
       "      <th>x3_0</th>\n",
       "      <th>x3_1</th>\n",
       "      <th>x3_2</th>\n",
       "      <th>x3_3</th>\n",
       "      <th>sendtime_07:00</th>\n",
       "      <th>sendtime_08:00</th>\n",
       "      <th>sendtime_09:00</th>\n",
       "      <th>...</th>\n",
       "      <th>sendtime_11:00</th>\n",
       "      <th>sendtime_12:00</th>\n",
       "      <th>sendtime_13:00</th>\n",
       "      <th>sendtime_14:00</th>\n",
       "      <th>sendtime_15:00</th>\n",
       "      <th>sendtime_16:00</th>\n",
       "      <th>sendtime_17:00</th>\n",
       "      <th>sendtime_18:00</th>\n",
       "      <th>sendtime_19:00</th>\n",
       "      <th>sendtime_20:00</th>\n",
       "    </tr>\n",
       "  </thead>\n",
       "  <tbody>\n",
       "    <tr>\n",
       "      <th>5</th>\n",
       "      <td>-1.25</td>\n",
       "      <td>-0.88</td>\n",
       "      <td>14</td>\n",
       "      <td>0</td>\n",
       "      <td>0</td>\n",
       "      <td>1</td>\n",
       "      <td>0</td>\n",
       "      <td>0</td>\n",
       "      <td>0</td>\n",
       "      <td>0</td>\n",
       "      <td>...</td>\n",
       "      <td>0</td>\n",
       "      <td>0</td>\n",
       "      <td>0</td>\n",
       "      <td>0</td>\n",
       "      <td>0</td>\n",
       "      <td>0</td>\n",
       "      <td>0</td>\n",
       "      <td>1</td>\n",
       "      <td>0</td>\n",
       "      <td>0</td>\n",
       "    </tr>\n",
       "    <tr>\n",
       "      <th>7</th>\n",
       "      <td>-1.25</td>\n",
       "      <td>-0.88</td>\n",
       "      <td>14</td>\n",
       "      <td>0</td>\n",
       "      <td>0</td>\n",
       "      <td>1</td>\n",
       "      <td>0</td>\n",
       "      <td>0</td>\n",
       "      <td>0</td>\n",
       "      <td>0</td>\n",
       "      <td>...</td>\n",
       "      <td>0</td>\n",
       "      <td>0</td>\n",
       "      <td>0</td>\n",
       "      <td>0</td>\n",
       "      <td>0</td>\n",
       "      <td>0</td>\n",
       "      <td>0</td>\n",
       "      <td>0</td>\n",
       "      <td>1</td>\n",
       "      <td>0</td>\n",
       "    </tr>\n",
       "  </tbody>\n",
       "</table>\n",
       "<p>2 rows × 21 columns</p>\n",
       "</div>"
      ],
      "text/plain": [
       "      x1     x2   m  x3_0  x3_1  x3_2  x3_3  sendtime_07:00  sendtime_08:00  \\\n",
       "5  -1.25  -0.88  14     0     0     1     0               0               0   \n",
       "7  -1.25  -0.88  14     0     0     1     0               0               0   \n",
       "\n",
       "   sendtime_09:00       ...        sendtime_11:00  sendtime_12:00  \\\n",
       "5               0       ...                     0               0   \n",
       "7               0       ...                     0               0   \n",
       "\n",
       "   sendtime_13:00  sendtime_14:00  sendtime_15:00  sendtime_16:00  \\\n",
       "5               0               0               0               0   \n",
       "7               0               0               0               0   \n",
       "\n",
       "   sendtime_17:00  sendtime_18:00  sendtime_19:00  sendtime_20:00  \n",
       "5               0               1               0               0  \n",
       "7               0               0               1               0  \n",
       "\n",
       "[2 rows x 21 columns]"
      ]
     },
     "execution_count": 27,
     "metadata": {},
     "output_type": "execute_result"
    }
   ],
   "source": [
    "df_x.head(2)"
   ]
  },
  {
   "cell_type": "code",
   "execution_count": 28,
   "metadata": {},
   "outputs": [],
   "source": [
    "df_y = df_test['timediff']"
   ]
  },
  {
   "cell_type": "code",
   "execution_count": 29,
   "metadata": {},
   "outputs": [],
   "source": [
    "df_y_gt_20k = df_test_gt_20k['timediff']"
   ]
  },
  {
   "cell_type": "code",
   "execution_count": 30,
   "metadata": {},
   "outputs": [],
   "source": [
    "from sklearn.model_selection import train_test_split"
   ]
  },
  {
   "cell_type": "code",
   "execution_count": 31,
   "metadata": {},
   "outputs": [],
   "source": [
    "X_train_reg, X_test_reg, y_train_reg, y_test_reg= train_test_split(df_x,df_y, test_size=0.3)"
   ]
  },
  {
   "cell_type": "code",
   "execution_count": 32,
   "metadata": {},
   "outputs": [],
   "source": [
    "X_train_reg_gt_20k, X_test_reg_gt_20k, y_train_reg_gt_20k, y_test_reg_gt_20k= train_test_split(df_x_gt_20k,df_y_gt_20k, test_size=0.3)"
   ]
  },
  {
   "cell_type": "code",
   "execution_count": 33,
   "metadata": {},
   "outputs": [],
   "source": [
    "from sklearn.ensemble import RandomForestRegressor\n",
    "# Instantiate model with 1000 decision trees\n",
    "rf = RandomForestRegressor(n_estimators = 100, random_state = 42)\n",
    "# Train the model on training data\n",
    "rf.fit(X_train_reg, y_train_reg);"
   ]
  },
  {
   "cell_type": "code",
   "execution_count": 34,
   "metadata": {},
   "outputs": [],
   "source": [
    "rf_gt_20k = RandomForestRegressor(n_estimators = 100, random_state = 42)\n",
    "# Train the model on training data\n",
    "rf_gt_20k.fit(X_train_reg_gt_20k, y_train_reg_gt_20k);"
   ]
  },
  {
   "cell_type": "code",
   "execution_count": 35,
   "metadata": {},
   "outputs": [],
   "source": [
    "import numpy as np"
   ]
  },
  {
   "cell_type": "code",
   "execution_count": 37,
   "metadata": {},
   "outputs": [
    {
     "name": "stdout",
     "output_type": "stream",
     "text": [
      "Mean Absolute Error: 3464.65 Seconds.\n"
     ]
    }
   ],
   "source": [
    "# Use the forest's predict method on the test data\n",
    "predictions = rf.predict(X_test_reg)\n",
    "# Calculate the absolute errors\n",
    "# Print out the mean absolute error (mae)\n",
    "errors = abs(predictions - y_test_reg)\n",
    "\n",
    "print('Mean Absolute Error:', round(np.mean(errors), 2), 'Seconds.')\n"
   ]
  },
  {
   "cell_type": "code",
   "execution_count": 38,
   "metadata": {},
   "outputs": [],
   "source": [
    "errors1 = abs(y_test_reg-np.mean(y_test_reg))"
   ]
  },
  {
   "cell_type": "code",
   "execution_count": 39,
   "metadata": {},
   "outputs": [],
   "source": [
    "erros2 = np.mean(errors1)"
   ]
  },
  {
   "cell_type": "code",
   "execution_count": 40,
   "metadata": {},
   "outputs": [
    {
     "data": {
      "text/plain": [
       "4379.900874591518"
      ]
     },
     "execution_count": 40,
     "metadata": {},
     "output_type": "execute_result"
    }
   ],
   "source": [
    "erros2"
   ]
  },
  {
   "cell_type": "code",
   "execution_count": 41,
   "metadata": {},
   "outputs": [],
   "source": [
    "# clearly  4380.677945957819 >  3464.19  , which means the regression model is able to predict the timediff better than , mean timediff.\n",
    " "
   ]
  },
  {
   "cell_type": "code",
   "execution_count": 42,
   "metadata": {},
   "outputs": [],
   "source": [
    "# Regression model has error < mean average "
   ]
  },
  {
   "cell_type": "code",
   "execution_count": 43,
   "metadata": {},
   "outputs": [
    {
     "data": {
      "image/png": "[encoded data removed]",
      "text/plain": [
       "<Figure size 432x288 with 1 Axes>"
      ]
     },
     "metadata": {
      "needs_background": "light"
     },
     "output_type": "display_data"
    }
   ],
   "source": [
    "# the timediff has sevral values, plot the distributuion of timediff. Its clear from the distribution that , almost half of the records has\n",
    "#timediff < 20000 and other half more than 200000\n",
    "\n",
    "import matplotlib.pyplot as plt\n",
    "import numpy as np\n",
    "import pandas as pd\n",
    "%matplotlib inline\n",
    "#x = np.random.random_integers(1, 100, 5)\n",
    "plt.hist(df['timediff'], bins=20)\n",
    "plt.ylabel('No of times')\n",
    "plt.show()"
   ]
  },
  {
   "cell_type": "code",
   "execution_count": 44,
   "metadata": {},
   "outputs": [
    {
     "data": {
      "text/plain": [
       "0"
      ]
     },
     "execution_count": 44,
     "metadata": {},
     "output_type": "execute_result"
    }
   ],
   "source": [
    "df['timediff'].min()"
   ]
  },
  {
   "cell_type": "code",
   "execution_count": 45,
   "metadata": {},
   "outputs": [
    {
     "data": {
      "text/plain": [
       "86340"
      ]
     },
     "execution_count": 45,
     "metadata": {},
     "output_type": "execute_result"
    }
   ],
   "source": [
    "df['timediff'].max()"
   ]
  },
  {
   "cell_type": "code",
   "execution_count": 46,
   "metadata": {},
   "outputs": [
    {
     "data": {
      "text/plain": [
       "32543.063082006607"
      ]
     },
     "execution_count": 46,
     "metadata": {},
     "output_type": "execute_result"
    }
   ],
   "source": [
    "df['timediff'].mean()"
   ]
  },
  {
   "cell_type": "code",
   "execution_count": 47,
   "metadata": {},
   "outputs": [
    {
     "data": {
      "image/png": "[encoded data removed]",
      "text/plain": [
       "<Figure size 432x288 with 1 Axes>"
      ]
     },
     "metadata": {
      "needs_background": "light"
     },
     "output_type": "display_data"
    }
   ],
   "source": [
    "out = pd.cut(df['timediff'], bins=[0,20000,80000], include_lowest=True)\n",
    "ax = out.value_counts(sort=False).plot.bar(rot=0, color=\"b\", figsize=(6,4))\n",
    "plt.show()"
   ]
  },
  {
   "cell_type": "code",
   "execution_count": 48,
   "metadata": {},
   "outputs": [],
   "source": [
    "# , create two labels 1 and 2 such 1 -> timediff < 200000\n",
    "# we are going to have classfication model bukd for predciting if the time to open mail will  be less than 5.5 hrs or more than 5.5 hrs"
   ]
  },
  {
   "cell_type": "code",
   "execution_count": 49,
   "metadata": {},
   "outputs": [],
   "source": [
    "\n",
    "def to_class(timediff):\n",
    "    if timediff < 20000:\n",
    "        label = 1\n",
    "    #elif timediff > 20000 and timediff < 80000:\n",
    "    elif timediff > 20000:\n",
    "        label = 2\n",
    "    else:\n",
    "        label = 3\n",
    "    return label\n",
    "\n"
   ]
  },
  {
   "cell_type": "code",
   "execution_count": 50,
   "metadata": {},
   "outputs": [],
   "source": [
    "df_1 = df.copy()"
   ]
  },
  {
   "cell_type": "code",
   "execution_count": 52,
   "metadata": {},
   "outputs": [],
   "source": [
    "df_1['label'] = df_1.apply(lambda x: to_class(x['timediff']),axis=1)"
   ]
  },
  {
   "cell_type": "code",
   "execution_count": 53,
   "metadata": {},
   "outputs": [
    {
     "data": {
      "text/html": [
       "<div>\n",
       "<style scoped>\n",
       "    .dataframe tbody tr th:only-of-type {\n",
       "        vertical-align: middle;\n",
       "    }\n",
       "\n",
       "    .dataframe tbody tr th {\n",
       "        vertical-align: top;\n",
       "    }\n",
       "\n",
       "    .dataframe thead th {\n",
       "        text-align: right;\n",
       "    }\n",
       "</style>\n",
       "<table border=\"1\" class=\"dataframe\">\n",
       "  <thead>\n",
       "    <tr style=\"text-align: right;\">\n",
       "      <th></th>\n",
       "      <th>x1</th>\n",
       "      <th>x2</th>\n",
       "      <th>x3</th>\n",
       "      <th>m</th>\n",
       "      <th>sendtime</th>\n",
       "      <th>opentime</th>\n",
       "      <th>timediff</th>\n",
       "      <th>label</th>\n",
       "    </tr>\n",
       "  </thead>\n",
       "  <tbody>\n",
       "    <tr>\n",
       "      <th>0</th>\n",
       "      <td>-1.25</td>\n",
       "      <td>-0.88</td>\n",
       "      <td>2</td>\n",
       "      <td>14</td>\n",
       "      <td>14:00</td>\n",
       "      <td>22:27</td>\n",
       "      <td>30420</td>\n",
       "      <td>2</td>\n",
       "    </tr>\n",
       "    <tr>\n",
       "      <th>1</th>\n",
       "      <td>-1.25</td>\n",
       "      <td>-0.88</td>\n",
       "      <td>2</td>\n",
       "      <td>14</td>\n",
       "      <td>18:00</td>\n",
       "      <td>14:37</td>\n",
       "      <td>74220</td>\n",
       "      <td>2</td>\n",
       "    </tr>\n",
       "    <tr>\n",
       "      <th>2</th>\n",
       "      <td>-1.25</td>\n",
       "      <td>-0.88</td>\n",
       "      <td>2</td>\n",
       "      <td>14</td>\n",
       "      <td>13:00</td>\n",
       "      <td>09:39</td>\n",
       "      <td>74340</td>\n",
       "      <td>2</td>\n",
       "    </tr>\n",
       "    <tr>\n",
       "      <th>3</th>\n",
       "      <td>-1.25</td>\n",
       "      <td>-0.88</td>\n",
       "      <td>2</td>\n",
       "      <td>14</td>\n",
       "      <td>17:00</td>\n",
       "      <td>11:58</td>\n",
       "      <td>68280</td>\n",
       "      <td>2</td>\n",
       "    </tr>\n",
       "    <tr>\n",
       "      <th>4</th>\n",
       "      <td>-1.25</td>\n",
       "      <td>-0.88</td>\n",
       "      <td>2</td>\n",
       "      <td>14</td>\n",
       "      <td>11:00</td>\n",
       "      <td>07:47</td>\n",
       "      <td>74820</td>\n",
       "      <td>2</td>\n",
       "    </tr>\n",
       "  </tbody>\n",
       "</table>\n",
       "</div>"
      ],
      "text/plain": [
       "      x1     x2 x3   m sendtime opentime  timediff  label\n",
       "0  -1.25  -0.88  2  14    14:00    22:27     30420      2\n",
       "1  -1.25  -0.88  2  14    18:00    14:37     74220      2\n",
       "2  -1.25  -0.88  2  14    13:00    09:39     74340      2\n",
       "3  -1.25  -0.88  2  14    17:00    11:58     68280      2\n",
       "4  -1.25  -0.88  2  14    11:00    07:47     74820      2"
      ]
     },
     "execution_count": 53,
     "metadata": {},
     "output_type": "execute_result"
    }
   ],
   "source": [
    "df_1.head()"
   ]
  },
  {
   "cell_type": "code",
   "execution_count": 54,
   "metadata": {},
   "outputs": [],
   "source": [
    "df_class = pd.get_dummies(df_1, columns=['x3','sendtime'])"
   ]
  },
  {
   "cell_type": "code",
   "execution_count": 55,
   "metadata": {},
   "outputs": [
    {
     "data": {
      "text/html": [
       "<div>\n",
       "<style scoped>\n",
       "    .dataframe tbody tr th:only-of-type {\n",
       "        vertical-align: middle;\n",
       "    }\n",
       "\n",
       "    .dataframe tbody tr th {\n",
       "        vertical-align: top;\n",
       "    }\n",
       "\n",
       "    .dataframe thead th {\n",
       "        text-align: right;\n",
       "    }\n",
       "</style>\n",
       "<table border=\"1\" class=\"dataframe\">\n",
       "  <thead>\n",
       "    <tr style=\"text-align: right;\">\n",
       "      <th></th>\n",
       "      <th>x1</th>\n",
       "      <th>x2</th>\n",
       "      <th>m</th>\n",
       "      <th>opentime</th>\n",
       "      <th>timediff</th>\n",
       "      <th>label</th>\n",
       "      <th>x3_0</th>\n",
       "      <th>x3_1</th>\n",
       "      <th>x3_2</th>\n",
       "      <th>x3_3</th>\n",
       "      <th>...</th>\n",
       "      <th>sendtime_11:00</th>\n",
       "      <th>sendtime_12:00</th>\n",
       "      <th>sendtime_13:00</th>\n",
       "      <th>sendtime_14:00</th>\n",
       "      <th>sendtime_15:00</th>\n",
       "      <th>sendtime_16:00</th>\n",
       "      <th>sendtime_17:00</th>\n",
       "      <th>sendtime_18:00</th>\n",
       "      <th>sendtime_19:00</th>\n",
       "      <th>sendtime_20:00</th>\n",
       "    </tr>\n",
       "  </thead>\n",
       "  <tbody>\n",
       "    <tr>\n",
       "      <th>0</th>\n",
       "      <td>-1.25</td>\n",
       "      <td>-0.88</td>\n",
       "      <td>14</td>\n",
       "      <td>22:27</td>\n",
       "      <td>30420</td>\n",
       "      <td>2</td>\n",
       "      <td>0</td>\n",
       "      <td>0</td>\n",
       "      <td>1</td>\n",
       "      <td>0</td>\n",
       "      <td>...</td>\n",
       "      <td>0</td>\n",
       "      <td>0</td>\n",
       "      <td>0</td>\n",
       "      <td>1</td>\n",
       "      <td>0</td>\n",
       "      <td>0</td>\n",
       "      <td>0</td>\n",
       "      <td>0</td>\n",
       "      <td>0</td>\n",
       "      <td>0</td>\n",
       "    </tr>\n",
       "    <tr>\n",
       "      <th>1</th>\n",
       "      <td>-1.25</td>\n",
       "      <td>-0.88</td>\n",
       "      <td>14</td>\n",
       "      <td>14:37</td>\n",
       "      <td>74220</td>\n",
       "      <td>2</td>\n",
       "      <td>0</td>\n",
       "      <td>0</td>\n",
       "      <td>1</td>\n",
       "      <td>0</td>\n",
       "      <td>...</td>\n",
       "      <td>0</td>\n",
       "      <td>0</td>\n",
       "      <td>0</td>\n",
       "      <td>0</td>\n",
       "      <td>0</td>\n",
       "      <td>0</td>\n",
       "      <td>0</td>\n",
       "      <td>1</td>\n",
       "      <td>0</td>\n",
       "      <td>0</td>\n",
       "    </tr>\n",
       "    <tr>\n",
       "      <th>2</th>\n",
       "      <td>-1.25</td>\n",
       "      <td>-0.88</td>\n",
       "      <td>14</td>\n",
       "      <td>09:39</td>\n",
       "      <td>74340</td>\n",
       "      <td>2</td>\n",
       "      <td>0</td>\n",
       "      <td>0</td>\n",
       "      <td>1</td>\n",
       "      <td>0</td>\n",
       "      <td>...</td>\n",
       "      <td>0</td>\n",
       "      <td>0</td>\n",
       "      <td>1</td>\n",
       "      <td>0</td>\n",
       "      <td>0</td>\n",
       "      <td>0</td>\n",
       "      <td>0</td>\n",
       "      <td>0</td>\n",
       "      <td>0</td>\n",
       "      <td>0</td>\n",
       "    </tr>\n",
       "    <tr>\n",
       "      <th>3</th>\n",
       "      <td>-1.25</td>\n",
       "      <td>-0.88</td>\n",
       "      <td>14</td>\n",
       "      <td>11:58</td>\n",
       "      <td>68280</td>\n",
       "      <td>2</td>\n",
       "      <td>0</td>\n",
       "      <td>0</td>\n",
       "      <td>1</td>\n",
       "      <td>0</td>\n",
       "      <td>...</td>\n",
       "      <td>0</td>\n",
       "      <td>0</td>\n",
       "      <td>0</td>\n",
       "      <td>0</td>\n",
       "      <td>0</td>\n",
       "      <td>0</td>\n",
       "      <td>1</td>\n",
       "      <td>0</td>\n",
       "      <td>0</td>\n",
       "      <td>0</td>\n",
       "    </tr>\n",
       "    <tr>\n",
       "      <th>4</th>\n",
       "      <td>-1.25</td>\n",
       "      <td>-0.88</td>\n",
       "      <td>14</td>\n",
       "      <td>07:47</td>\n",
       "      <td>74820</td>\n",
       "      <td>2</td>\n",
       "      <td>0</td>\n",
       "      <td>0</td>\n",
       "      <td>1</td>\n",
       "      <td>0</td>\n",
       "      <td>...</td>\n",
       "      <td>1</td>\n",
       "      <td>0</td>\n",
       "      <td>0</td>\n",
       "      <td>0</td>\n",
       "      <td>0</td>\n",
       "      <td>0</td>\n",
       "      <td>0</td>\n",
       "      <td>0</td>\n",
       "      <td>0</td>\n",
       "      <td>0</td>\n",
       "    </tr>\n",
       "  </tbody>\n",
       "</table>\n",
       "<p>5 rows × 24 columns</p>\n",
       "</div>"
      ],
      "text/plain": [
       "      x1     x2   m opentime  timediff  label  x3_0  x3_1  x3_2  x3_3  \\\n",
       "0  -1.25  -0.88  14    22:27     30420      2     0     0     1     0   \n",
       "1  -1.25  -0.88  14    14:37     74220      2     0     0     1     0   \n",
       "2  -1.25  -0.88  14    09:39     74340      2     0     0     1     0   \n",
       "3  -1.25  -0.88  14    11:58     68280      2     0     0     1     0   \n",
       "4  -1.25  -0.88  14    07:47     74820      2     0     0     1     0   \n",
       "\n",
       "        ...        sendtime_11:00  sendtime_12:00  sendtime_13:00  \\\n",
       "0       ...                     0               0               0   \n",
       "1       ...                     0               0               0   \n",
       "2       ...                     0               0               1   \n",
       "3       ...                     0               0               0   \n",
       "4       ...                     1               0               0   \n",
       "\n",
       "   sendtime_14:00  sendtime_15:00  sendtime_16:00  sendtime_17:00  \\\n",
       "0               1               0               0               0   \n",
       "1               0               0               0               0   \n",
       "2               0               0               0               0   \n",
       "3               0               0               0               1   \n",
       "4               0               0               0               0   \n",
       "\n",
       "   sendtime_18:00  sendtime_19:00  sendtime_20:00  \n",
       "0               0               0               0  \n",
       "1               1               0               0  \n",
       "2               0               0               0  \n",
       "3               0               0               0  \n",
       "4               0               0               0  \n",
       "\n",
       "[5 rows x 24 columns]"
      ]
     },
     "execution_count": 55,
     "metadata": {},
     "output_type": "execute_result"
    }
   ],
   "source": [
    "df_class.head()"
   ]
  },
  {
   "cell_type": "code",
   "execution_count": 56,
   "metadata": {},
   "outputs": [],
   "source": [
    "df_class_x = df_class.drop(['opentime','timediff','label'],axis=1)"
   ]
  },
  {
   "cell_type": "code",
   "execution_count": 57,
   "metadata": {},
   "outputs": [
    {
     "data": {
      "text/html": [
       "<div>\n",
       "<style scoped>\n",
       "    .dataframe tbody tr th:only-of-type {\n",
       "        vertical-align: middle;\n",
       "    }\n",
       "\n",
       "    .dataframe tbody tr th {\n",
       "        vertical-align: top;\n",
       "    }\n",
       "\n",
       "    .dataframe thead th {\n",
       "        text-align: right;\n",
       "    }\n",
       "</style>\n",
       "<table border=\"1\" class=\"dataframe\">\n",
       "  <thead>\n",
       "    <tr style=\"text-align: right;\">\n",
       "      <th></th>\n",
       "      <th>x1</th>\n",
       "      <th>x2</th>\n",
       "      <th>m</th>\n",
       "      <th>x3_0</th>\n",
       "      <th>x3_1</th>\n",
       "      <th>x3_2</th>\n",
       "      <th>x3_3</th>\n",
       "      <th>sendtime_07:00</th>\n",
       "      <th>sendtime_08:00</th>\n",
       "      <th>sendtime_09:00</th>\n",
       "      <th>...</th>\n",
       "      <th>sendtime_11:00</th>\n",
       "      <th>sendtime_12:00</th>\n",
       "      <th>sendtime_13:00</th>\n",
       "      <th>sendtime_14:00</th>\n",
       "      <th>sendtime_15:00</th>\n",
       "      <th>sendtime_16:00</th>\n",
       "      <th>sendtime_17:00</th>\n",
       "      <th>sendtime_18:00</th>\n",
       "      <th>sendtime_19:00</th>\n",
       "      <th>sendtime_20:00</th>\n",
       "    </tr>\n",
       "  </thead>\n",
       "  <tbody>\n",
       "    <tr>\n",
       "      <th>0</th>\n",
       "      <td>-1.25</td>\n",
       "      <td>-0.88</td>\n",
       "      <td>14</td>\n",
       "      <td>0</td>\n",
       "      <td>0</td>\n",
       "      <td>1</td>\n",
       "      <td>0</td>\n",
       "      <td>0</td>\n",
       "      <td>0</td>\n",
       "      <td>0</td>\n",
       "      <td>...</td>\n",
       "      <td>0</td>\n",
       "      <td>0</td>\n",
       "      <td>0</td>\n",
       "      <td>1</td>\n",
       "      <td>0</td>\n",
       "      <td>0</td>\n",
       "      <td>0</td>\n",
       "      <td>0</td>\n",
       "      <td>0</td>\n",
       "      <td>0</td>\n",
       "    </tr>\n",
       "  </tbody>\n",
       "</table>\n",
       "<p>1 rows × 21 columns</p>\n",
       "</div>"
      ],
      "text/plain": [
       "      x1     x2   m  x3_0  x3_1  x3_2  x3_3  sendtime_07:00  sendtime_08:00  \\\n",
       "0  -1.25  -0.88  14     0     0     1     0               0               0   \n",
       "\n",
       "   sendtime_09:00       ...        sendtime_11:00  sendtime_12:00  \\\n",
       "0               0       ...                     0               0   \n",
       "\n",
       "   sendtime_13:00  sendtime_14:00  sendtime_15:00  sendtime_16:00  \\\n",
       "0               0               1               0               0   \n",
       "\n",
       "   sendtime_17:00  sendtime_18:00  sendtime_19:00  sendtime_20:00  \n",
       "0               0               0               0               0  \n",
       "\n",
       "[1 rows x 21 columns]"
      ]
     },
     "execution_count": 57,
     "metadata": {},
     "output_type": "execute_result"
    }
   ],
   "source": [
    "df_class_x.head(1)"
   ]
  },
  {
   "cell_type": "code",
   "execution_count": 58,
   "metadata": {},
   "outputs": [
    {
     "data": {
      "text/plain": [
       "Index(['x1', 'x2', 'm', 'x3_0', 'x3_1', 'x3_2', 'x3_3', 'sendtime_07:00',\n",
       "       'sendtime_08:00', 'sendtime_09:00', 'sendtime_10:00', 'sendtime_11:00',\n",
       "       'sendtime_12:00', 'sendtime_13:00', 'sendtime_14:00', 'sendtime_15:00',\n",
       "       'sendtime_16:00', 'sendtime_17:00', 'sendtime_18:00', 'sendtime_19:00',\n",
       "       'sendtime_20:00'],\n",
       "      dtype='object')"
      ]
     },
     "execution_count": 58,
     "metadata": {},
     "output_type": "execute_result"
    }
   ],
   "source": [
    "df_class_x.columns"
   ]
  },
  {
   "cell_type": "code",
   "execution_count": 59,
   "metadata": {},
   "outputs": [],
   "source": [
    "df_class_y = df_class['label']"
   ]
  },
  {
   "cell_type": "code",
   "execution_count": 60,
   "metadata": {},
   "outputs": [],
   "source": [
    "X_train, X_test, y_train, y_test= train_test_split(df_class_x,df_class_y, test_size=0.3)"
   ]
  },
  {
   "cell_type": "code",
   "execution_count": 61,
   "metadata": {},
   "outputs": [],
   "source": [
    "from sklearn.linear_model import LogisticRegression\n"
   ]
  },
  {
   "cell_type": "code",
   "execution_count": 62,
   "metadata": {},
   "outputs": [
    {
     "name": "stderr",
     "output_type": "stream",
     "text": [
      "C:\\ProgramData\\Anaconda3\\lib\\site-packages\\sklearn\\linear_model\\logistic.py:433: FutureWarning: Default solver will be changed to 'lbfgs' in 0.22. Specify a solver to silence this warning.\n",
      "  FutureWarning)\n"
     ]
    },
    {
     "data": {
      "text/plain": [
       "LogisticRegression(C=1.0, class_weight=None, dual=False, fit_intercept=True,\n",
       "          intercept_scaling=1, max_iter=100, multi_class='warn',\n",
       "          n_jobs=None, penalty='l2', random_state=None, solver='warn',\n",
       "          tol=0.0001, verbose=0, warm_start=False)"
      ]
     },
     "execution_count": 62,
     "metadata": {},
     "output_type": "execute_result"
    }
   ],
   "source": [
    "model = LogisticRegression()\n",
    "model.fit(X_train, y_train)\n"
   ]
  },
  {
   "cell_type": "code",
   "execution_count": 63,
   "metadata": {},
   "outputs": [],
   "source": [
    "y_pred = model.predict(X_test)"
   ]
  },
  {
   "cell_type": "code",
   "execution_count": 64,
   "metadata": {},
   "outputs": [
    {
     "data": {
      "text/plain": [
       "0.6997763759554086"
      ]
     },
     "execution_count": 64,
     "metadata": {},
     "output_type": "execute_result"
    }
   ],
   "source": [
    "metrics.accuracy_score(y_pred,y_test)\n"
   ]
  },
  {
   "cell_type": "code",
   "execution_count": 66,
   "metadata": {},
   "outputs": [
    {
     "data": {
      "text/plain": [
       "RandomForestClassifier(bootstrap=True, class_weight=None, criterion='gini',\n",
       "            max_depth=None, max_features='auto', max_leaf_nodes=None,\n",
       "            min_impurity_decrease=0.0, min_impurity_split=None,\n",
       "            min_samples_leaf=1, min_samples_split=2,\n",
       "            min_weight_fraction_leaf=0.0, n_estimators=300, n_jobs=None,\n",
       "            oob_score=False, random_state=None, verbose=0,\n",
       "            warm_start=False)"
      ]
     },
     "execution_count": 66,
     "metadata": {},
     "output_type": "execute_result"
    }
   ],
   "source": [
    "#Import Random Forest Model\n",
    "from sklearn.ensemble import RandomForestClassifier\n",
    "\n",
    "#Create a Gaussian Classifier\n",
    "clf_n=RandomForestClassifier(n_estimators=300)\n",
    "\n",
    "#Train the model using the training sets y_pred=clf.predict(X_test)\n",
    "clf_n.fit(X_train,y_train)\n"
   ]
  },
  {
   "cell_type": "code",
   "execution_count": 68,
   "metadata": {},
   "outputs": [
    {
     "data": {
      "text/plain": [
       "0.7279713627716031"
      ]
     },
     "execution_count": 68,
     "metadata": {},
     "output_type": "execute_result"
    }
   ],
   "source": [
    "y_pred = clf_n.predict(X_test)\n",
    "metrics.accuracy_score(y_pred,y_test)\n"
   ]
  },
  {
   "cell_type": "code",
   "execution_count": 69,
   "metadata": {},
   "outputs": [
    {
     "name": "stdout",
     "output_type": "stream",
     "text": [
      "Confusion Matrix :\n",
      "[[ 74218  37926]\n",
      " [ 27276 100268]]\n",
      "Accuracy Score : 0.7279713627716031\n",
      "Report : \n",
      "              precision    recall  f1-score   support\n",
      "\n",
      "           1       0.73      0.66      0.69    112144\n",
      "           2       0.73      0.79      0.75    127544\n",
      "\n",
      "   micro avg       0.73      0.73      0.73    239688\n",
      "   macro avg       0.73      0.72      0.72    239688\n",
      "weighted avg       0.73      0.73      0.73    239688\n",
      "\n"
     ]
    }
   ],
   "source": [
    "\n",
    "from sklearn.metrics import confusion_matrix \n",
    "from sklearn.metrics import accuracy_score \n",
    "from sklearn.metrics import classification_report \n",
    "results = confusion_matrix(y_test, y_pred) \n",
    "print('Confusion Matrix :')\n",
    "print(results) \n",
    "print('Accuracy Score :',accuracy_score(y_test, y_pred))\n",
    "print('Report : ')\n",
    "print(classification_report(y_test, y_pred))"
   ]
  },
  {
   "cell_type": "markdown",
   "metadata": {},
   "source": [
    "Here we feed the new record and determine its best send time . \n",
    "we will create a sendtime feature , with value starting from 7 and and going till 11 PM . for each time predict if the open time is less \n",
    "than 5.5 hrs or more than 5.5 hrs. \n",
    "If its less than 5.5 hrs , than use the regression model trained for less than 5.5 hrs and determine the timediff predcited by model for each send time .\n",
    "then select the send time which gives min timediff predicted by model."
   ]
  },
  {
   "cell_type": "code",
   "execution_count": 70,
   "metadata": {},
   "outputs": [],
   "source": [
    "# change the index value of iloc to different value to test it for another records. Run the next two cells to check what is the minumum send time .\n",
    "qa=X_test.iloc[1].tolist()\n"
   ]
  },
  {
   "cell_type": "code",
   "execution_count": 71,
   "metadata": {},
   "outputs": [],
   "source": [
    "import numpy\n",
    "S=numpy.array(qa)\n",
    "time1 = []\n",
    "time2 = []\n",
    "   \n",
    "S[7:]=0\n",
    "found_in_1 = \"N\"\n",
    "for i in range(7,21):\n",
    "    #print(i)\n",
    "    S[i] = 1\n",
    "    u= S.tolist()\n",
    "    u = [ float(x) for x in u ]\n",
    "    u = [u]\n",
    "    y_pred_1 = model.predict(u)\n",
    "    if y_pred_1[0]==1:        \n",
    "        y_pred_reg=rf.predict(u)\n",
    "        #print(y_pred_1)\n",
    "        #print(y_pred_reg)\n",
    "        time1.append([i,y_pred_reg[0]])\n",
    "        found_in_1 = \"Y\"\n",
    "    else:\n",
    "        y_pred_reg_gt_20k=rf_gt_20k.predict(u)\n",
    "        #print(y_pred_1)\n",
    "        #print(y_pred_reg)\n",
    "        time2.append([i,y_pred_reg_gt_20k[0]])\n",
    "\n"
   ]
  },
  {
   "cell_type": "code",
   "execution_count": 72,
   "metadata": {},
   "outputs": [
    {
     "data": {
      "image/png": "[encoded data removed]",
      "text/plain": [
       "<Figure size 432x288 with 1 Axes>"
      ]
     },
     "metadata": {
      "needs_background": "light"
     },
     "output_type": "display_data"
    }
   ],
   "source": [
    "if(found_in_1 == 'Y'):\n",
    "    time = time1\n",
    "else:\n",
    "    time = time2\n",
    "plt.bar(range(len(time)), [val[1] for val in time], align='center')   \n",
    "plt.xticks(range(len(time)), ['Time:'+str(val[0]) for val in time])\n",
    "plt.xticks(rotation=70)\n",
    "\n",
    "# Add title and axis names\n",
    "plt.title('Plot of time taken to open the mail vs various send time of day ')\n",
    "plt.xlabel('Time of day')\n",
    "plt.ylabel('Timediff (open time - send time)')\n",
    " \n",
    "\n",
    "\n",
    "plt.show()"
   ]
  },
  {
   "cell_type": "markdown",
   "metadata": {},
   "source": [
    "# Areas of improvement \n",
    "1) Trying dfferent models xgboost ,enseble, neural networt etc\n",
    "2) Grid search to use best hyperparameter to improve model .\n",
    "3) segmentation better  , currently two segments have been used timediff < 5.5 hrs and more . further split can be dne to make mutiple models to suit each segment \n",
    "4) CLuster the data to check if segments can be improved . \n",
    "5) Taking more features in data set , probably text content of mail , titlel , image etc.. \n"
   ]
  },
  {
   "cell_type": "code",
   "execution_count": null,
   "metadata": {},
   "outputs": [],
   "source": []
  }
 ],
 "metadata": {
  "kernelspec": {
   "display_name": "Python 3",
   "language": "python",
   "name": "python3"
  },
  "language_info": {
   "codemirror_mode": {
    "name": "ipython",
    "version": 3
   },
   "file_extension": ".py",
   "mimetype": "text/x-python",
   "name": "python",
   "nbconvert_exporter": "python",
   "pygments_lexer": "ipython3",
   "version": "3.7.1"
  }
 },
 "nbformat": 4,
 "nbformat_minor": 2
}
